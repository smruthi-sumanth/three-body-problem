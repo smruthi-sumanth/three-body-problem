{
 "cells": [
  {
   "cell_type": "code",
   "execution_count": 1,
   "metadata": {},
   "outputs": [],
   "source": [
    "import numpy as np\n",
    "import matplotlib.pyplot as plt\n",
    "from mpl_toolkits.mplot3d import Axes3D\n",
    "import pandas as pd\n",
    "\n",
    "plt.style.use('dark_background')"
   ]
  },
  {
   "cell_type": "code",
   "execution_count": 2,
   "metadata": {},
   "outputs": [],
   "source": [
    "# Masses of the planets\n",
    "m_1 = 10\n",
    "m_2 = 20\n",
    "m_3 = 30\n",
    "\n",
    "# Starting coordinates and velocities for planets\n",
    "p1_start = np.array([-10, 10, -11])\n",
    "v1_start = np.array([-3, 0, 0])\n",
    "\n",
    "p2_start = np.array([0, 0, 0])\n",
    "v2_start = np.array([0, 0, 0])\n",
    "\n",
    "p3_start = np.array([10, 10, 12])\n",
    "v3_start = np.array([3, 0, 0])\n"
   ]
  },
  {
   "cell_type": "code",
   "execution_count": 3,
   "metadata": {},
   "outputs": [],
   "source": [
    "def accelerations(p1, p2, p3):\n",
    "    \"\"\"\n",
    "    A function to calculate the accelerations of each planet \n",
    "    based on the positions of the three bodies.\n",
    "    \"\"\"\n",
    "    planet_1_dv = -9.8 * m_2 * (p1 - p2)/(np.linalg.norm(p1 - p2)**3) - \\\n",
    "                  9.8 * m_3 * (p1 - p3)/(np.linalg.norm(p1 - p3)**3)\n",
    "\n",
    "    planet_2_dv = -9.8 * m_3 * (p2 - p3)/(np.linalg.norm(p2 - p3)**3) - \\\n",
    "                  9.8 * m_1 * (p2 - p1)/(np.linalg.norm(p2 - p1)**3)\n",
    "\n",
    "    planet_3_dv = -9.8 * m_1 * (p3 - p1)/(np.linalg.norm(p3 - p1)**3) - \\\n",
    "                  9.8 * m_2 * (p3 - p2)/(np.linalg.norm(p3 - p2)**3)\n",
    "\n",
    "    return planet_1_dv, planet_2_dv, planet_3_dv\n"
   ]
  },
  {
   "cell_type": "code",
   "execution_count": 4,
   "metadata": {},
   "outputs": [],
   "source": [
    "# Number of different initial conditions\n",
    "num_initial_conditions = 100\n",
    "\n",
    "# Time step and number of steps for each simulation\n",
    "delta_t = 0.001\n",
    "steps = 2000  # Can adjust for performance\n"
   ]
  },
  {
   "cell_type": "code",
   "execution_count": 5,
   "metadata": {},
   "outputs": [],
   "source": [
    "def generate_initial_conditions():\n",
    "    p1_start = np.random.uniform(-20, 20, size=3)\n",
    "    v1_start = np.random.uniform(-5, 5, size=3)\n",
    "    p2_start = np.random.uniform(-20, 20, size=3)\n",
    "    v2_start = np.random.uniform(-5, 5, size=3)\n",
    "    p3_start = np.random.uniform(-20, 20, size=3)\n",
    "    v3_start = np.random.uniform(-5, 5, size=3)\n",
    "    return p1_start, v1_start, p2_start, v2_start, p3_start, v3_start\n"
   ]
  },
  {
   "cell_type": "code",
   "execution_count": 6,
   "metadata": {},
   "outputs": [],
   "source": [
    "# Lists to store the dataset for all initial conditions\n",
    "all_data_input = []\n",
    "all_data_output = []"
   ]
  },
  {
   "cell_type": "code",
   "execution_count": 10,
   "metadata": {},
   "outputs": [],
   "source": [
    "def plot_trajectory(p1, p2, p3, condition_number):\n",
    "    \"\"\"\n",
    "    Plot the 3D trajectories of the three bodies for a given condition number and save the plot as an image.\n",
    "    \"\"\"\n",
    "    fig = plt.figure(figsize=(10, 7))\n",
    "    ax = fig.add_subplot(111, projection='3d')\n",
    "\n",
    "    ax.plot(p1[:, 0], p1[:, 1], p1[:, 2], label='Body 1')\n",
    "    ax.plot(p2[:, 0], p2[:, 1], p2[:, 2], label='Body 2')\n",
    "    ax.plot(p3[:, 0], p3[:, 1], p3[:, 2], label='Body 3')\n",
    "\n",
    "    ax.set_xlabel('X')\n",
    "    ax.set_ylabel('Y')\n",
    "    ax.set_zlabel('Z')\n",
    "    ax.legend()\n",
    "\n",
    "    # Save the plot for this condition\n",
    "    plt.savefig(f\"trajectory_condition_{condition_number}.png\")\n",
    "    plt.close()  # Close the figure to avoid memory leaks\n"
   ]
  },
  {
   "cell_type": "code",
   "execution_count": 7,
   "metadata": {},
   "outputs": [],
   "source": [
    "# Loop over each initial condition\n",
    "for condition in range(num_initial_conditions):\n",
    "    # Generate random initial positions and velocities\n",
    "    p1_start, v1_start, p2_start, v2_start, p3_start, v3_start = generate_initial_conditions()\n",
    "\n",
    "    # Initialize trajectory arrays for this particular set\n",
    "    p1 = np.zeros((steps, 3))\n",
    "    v1 = np.zeros((steps, 3))\n",
    "    p2 = np.zeros((steps, 3))\n",
    "    v2 = np.zeros((steps, 3))\n",
    "    p3 = np.zeros((steps, 3))\n",
    "    v3 = np.zeros((steps, 3))\n",
    "\n",
    "    # Set initial positions and velocities\n",
    "    p1[0], p2[0], p3[0] = p1_start, p2_start, p3_start\n",
    "    v1[0], v2[0], v3[0] = v1_start, v2_start, v3_start\n",
    "\n",
    "    # Evolve the system over time\n",
    "    for i in range(steps - 1):\n",
    "        # Calculate accelerations\n",
    "        dv1, dv2, dv3 = accelerations(p1[i], p2[i], p3[i])\n",
    "\n",
    "        # Update velocities\n",
    "        v1[i + 1] = v1[i] + dv1 * delta_t\n",
    "        v2[i + 1] = v2[i] + dv2 * delta_t\n",
    "        v3[i + 1] = v3[i] + dv3 * delta_t\n",
    "\n",
    "        # Update positions\n",
    "        p1[i + 1] = p1[i] + v1[i] * delta_t\n",
    "        p2[i + 1] = p2[i] + v2[i] * delta_t\n",
    "        p3[i + 1] = p3[i] + v3[i] * delta_t\n",
    "\n",
    "        # Store current positions and velocities as input\n",
    "        current_input = np.concatenate((p1[i], v1[i], p2[i], v2[i], p3[i], v3[i]))\n",
    "        all_data_input.append(current_input)\n",
    "\n",
    "        # Store next step positions and velocities as output\n",
    "        next_output = np.concatenate((p1[i + 1], v1[i + 1], p2[i + 1], v2[i + 1], p3[i + 1], v3[i + 1]))\n",
    "        all_data_output.append(next_output)\n",
    "        \n",
    "    plot_trajectory(p1, p2, p3, condition)"
   ]
  },
  {
   "cell_type": "code",
   "execution_count": 8,
   "metadata": {},
   "outputs": [],
   "source": [
    "# Convert lists to DataFrame\n",
    "df_input = pd.DataFrame(all_data_input)\n",
    "df_output = pd.DataFrame(all_data_output)\n",
    "\n",
    "# Save the datasets to CSV files\n",
    "df_input.to_csv('three_body_input.csv', index=False)\n",
    "df_output.to_csv('three_body_output.csv', index=False)"
   ]
  }
 ],
 "metadata": {
  "kernelspec": {
   "display_name": "Python 3",
   "language": "python",
   "name": "python3"
  },
  "language_info": {
   "codemirror_mode": {
    "name": "ipython",
    "version": 3
   },
   "file_extension": ".py",
   "mimetype": "text/x-python",
   "name": "python",
   "nbconvert_exporter": "python",
   "pygments_lexer": "ipython3",
   "version": "3.11.4"
  }
 },
 "nbformat": 4,
 "nbformat_minor": 2
}
