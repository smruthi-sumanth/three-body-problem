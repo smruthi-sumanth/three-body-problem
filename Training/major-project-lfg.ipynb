{
 "cells": [
  {
   "cell_type": "code",
   "execution_count": 1,
   "id": "75ca222c",
   "metadata": {
    "_cell_guid": "b1076dfc-b9ad-4769-8c92-a6c4dae69d19",
    "_uuid": "8f2839f25d086af736a60e9eeb907d3b93b6e0e5",
    "execution": {
     "iopub.execute_input": "2024-10-19T06:19:45.830296Z",
     "iopub.status.busy": "2024-10-19T06:19:45.829901Z",
     "iopub.status.idle": "2024-10-19T06:19:49.860911Z",
     "shell.execute_reply": "2024-10-19T06:19:49.860061Z"
    },
    "papermill": {
     "duration": 4.039093,
     "end_time": "2024-10-19T06:19:49.863408",
     "exception": false,
     "start_time": "2024-10-19T06:19:45.824315",
     "status": "completed"
    },
    "tags": []
   },
   "outputs": [],
   "source": [
    "import torch\n",
    "import torch.nn as nn\n",
    "import torch.optim as optim\n",
    "import numpy as np\n",
    "import pandas as pd\n",
    "from torch.utils.data import DataLoader, TensorDataset, random_split\n",
    "import matplotlib.pyplot as plt"
   ]
  },
  {
   "cell_type": "code",
   "execution_count": 2,
   "id": "4b986724",
   "metadata": {
    "execution": {
     "iopub.execute_input": "2024-10-19T06:19:49.874471Z",
     "iopub.status.busy": "2024-10-19T06:19:49.873386Z",
     "iopub.status.idle": "2024-10-19T06:19:49.986022Z",
     "shell.execute_reply": "2024-10-19T06:19:49.985149Z"
    },
    "papermill": {
     "duration": 0.12035,
     "end_time": "2024-10-19T06:19:49.988199",
     "exception": false,
     "start_time": "2024-10-19T06:19:49.867849",
     "status": "completed"
    },
    "tags": []
   },
   "outputs": [],
   "source": [
    "class PINN(nn.Module):\n",
    "    def __init__(self):\n",
    "        super(PINN, self).__init__()\n",
    "        self.fc1 = nn.Linear(18, 128)  # Increased number of neurons\n",
    "        self.fc2 = nn.Linear(128, 128)  # Added more neurons\n",
    "        self.fc3 = nn.Linear(128, 64)\n",
    "        self.fc4 = nn.Linear(64, 64)    # Added another hidden layer\n",
    "        self.fc5 = nn.Linear(64, 18)    # Output: 9 positions + 9 velocities\n",
    "\n",
    "        # Adding BatchNorm layers (helps normalize activations)\n",
    "        self.bn1 = nn.BatchNorm1d(128)\n",
    "        self.bn2 = nn.BatchNorm1d(128)\n",
    "        self.bn3 = nn.BatchNorm1d(64)\n",
    "\n",
    "        # Adding dropout layers (helps reduce overfitting)\n",
    "        self.dropout = nn.Dropout(0.1)  # Dropout rate 30%\n",
    "\n",
    "    def forward(self, x):\n",
    "        x = torch.relu(self.bn1(self.fc1(x)))\n",
    "        x = self.dropout(x)  # Apply dropout after the first layer\n",
    "        \n",
    "        x = torch.relu(self.bn2(self.fc2(x)))\n",
    "        x = self.dropout(x)  # Apply dropout after the second layer\n",
    "        \n",
    "        x = torch.relu(self.bn3(self.fc3(x)))\n",
    "        x = self.dropout(x)  # Dropout again after the third layer\n",
    "\n",
    "        x = torch.relu(self.fc4(x))  # Fourth hidden layer without batchnorm or dropout\n",
    "        x = self.fc5(x)  # Final output layer\n",
    "        return x"
   ]
  },
  {
   "cell_type": "code",
   "execution_count": 3,
   "id": "1cb0d689",
   "metadata": {
    "execution": {
     "iopub.execute_input": "2024-10-19T06:19:49.998223Z",
     "iopub.status.busy": "2024-10-19T06:19:49.997454Z",
     "iopub.status.idle": "2024-10-19T06:19:50.014316Z",
     "shell.execute_reply": "2024-10-19T06:19:50.013299Z"
    },
    "papermill": {
     "duration": 0.024021,
     "end_time": "2024-10-19T06:19:50.016277",
     "exception": false,
     "start_time": "2024-10-19T06:19:49.992256",
     "status": "completed"
    },
    "tags": []
   },
   "outputs": [],
   "source": [
    "def physics_loss(predicted_positions_and_velocities, positions_and_velocities):\n",
    "    # Extract current positions and velocities from the input\n",
    "    x1, y1, z1, vx1, vy1, vz1 = positions_and_velocities[:, 0], positions_and_velocities[:, 1], positions_and_velocities[:, 2], positions_and_velocities[:, 3], positions_and_velocities[:, 4], positions_and_velocities[:, 5]\n",
    "    x2, y2, z2, vx2, vy2, vz2 = positions_and_velocities[:, 6], positions_and_velocities[:, 7], positions_and_velocities[:, 8], positions_and_velocities[:, 9], positions_and_velocities[:, 10], positions_and_velocities[:, 11]\n",
    "    x3, y3, z3, vx3, vy3, vz3 = positions_and_velocities[:, 12], positions_and_velocities[:, 13], positions_and_velocities[:, 14], positions_and_velocities[:, 15], positions_and_velocities[:, 16], positions_and_velocities[:, 17]\n",
    "\n",
    "    # Gravitational constant and masses\n",
    "    G = 6.67430e-11\n",
    "    m1, m2, m3 = 10, 20, 30\n",
    "    dt = 1\n",
    "    \n",
    "    # Distances between bodies\n",
    "    r12 = torch.sqrt((x2 - x1)**2 + (y2 - y1)**2 + (z2 - z1)**2)\n",
    "    r13 = torch.sqrt((x3 - x1)**2 + (y3 - y1)**2 + (z3 - z1)**2)\n",
    "    r23 = torch.sqrt((x3 - x2)**2 + (y3 - y2)**2 + (z3 - z2)**2)\n",
    "\n",
    "    # Compute accelerations using Newton's Law of Gravitation\n",
    "    ax1 = G * (m2 * (x2 - x1) / r12**3 + m3 * (x3 - x1) / r13**3)\n",
    "    ay1 = G * (m2 * (y2 - y1) / r12**3 + m3 * (y3 - y1) / r13**3)\n",
    "    az1 = G * (m2 * (z2 - z1) / r12**3 + m3 * (z3 - z1) / r13**3)\n",
    "    \n",
    "    ax2 = G * (m1 * (x1 - x2) / r12**3 + m3 * (x3 - x2) / r23**3)\n",
    "    ay2 = G * (m1 * (y1 - y2) / r12**3 + m3 * (y3 - y2) / r23**3)\n",
    "    az2 = G * (m1 * (z1 - z2) / r12**3 + m3 * (z3 - z2) / r23**3)\n",
    "\n",
    "    ax3 = G * (m1 * (x1 - x3) / r13**3 + m2 * (x2 - x3) / r23**3)\n",
    "    ay3 = G * (m1 * (y1 - y3) / r13**3 + m2 * (y2 - y3) / r23**3)\n",
    "    az3 = G * (m1 * (z1 - z3) / r13**3 + m2 * (z2 - z3) / r23**3)\n",
    "\n",
    "    # Update velocities using time step dt\n",
    "    vx1_new = vx1 + ax1 * dt\n",
    "    vy1_new = vy1 + ay1 * dt\n",
    "    vz1_new = vz1 + az1 * dt\n",
    "\n",
    "    vx2_new = vx2 + ax2 * dt\n",
    "    vy2_new = vy2 + ay2 * dt\n",
    "    vz2_new = vz2 + az2 * dt\n",
    "\n",
    "    vx3_new = vx3 + ax3 * dt\n",
    "    vy3_new = vy3 + ay3 * dt\n",
    "    vz3_new = vz3 + az3 * dt\n",
    "\n",
    "    # Combine calculated velocities into a tensor\n",
    "    calculated_velocities = torch.stack((vx1_new, vy1_new, vz1_new, vx2_new, vy2_new, vz2_new, vx3_new, vy3_new, vz3_new), dim=1)\n",
    "\n",
    "    # Extract predicted velocities (assume they are the last 9 elements)\n",
    "    predicted_velocities = predicted_positions_and_velocities[:, 9:]  # Last 9 are predicted velocities\n",
    "\n",
    "    # Compute loss as mean squared error between predicted and physics-based velocities\n",
    "    return torch.mean((calculated_velocities - predicted_velocities)**2)"
   ]
  },
  {
   "cell_type": "code",
   "execution_count": 4,
   "id": "d346effa",
   "metadata": {
    "execution": {
     "iopub.execute_input": "2024-10-19T06:19:50.025945Z",
     "iopub.status.busy": "2024-10-19T06:19:50.025534Z",
     "iopub.status.idle": "2024-10-19T06:19:51.100511Z",
     "shell.execute_reply": "2024-10-19T06:19:51.099499Z"
    },
    "papermill": {
     "duration": 1.082699,
     "end_time": "2024-10-19T06:19:51.103012",
     "exception": false,
     "start_time": "2024-10-19T06:19:50.020313",
     "status": "completed"
    },
    "tags": []
   },
   "outputs": [],
   "source": [
    "from sklearn.preprocessing import MinMaxScaler\n",
    "\n",
    "def load_data():\n",
    "    input_file = '/kaggle/input/three-body-simulation/three_body_input.csv'\n",
    "    output_file = '/kaggle/input/three-body-simulation/three_body_output.csv'\n",
    "\n",
    "    # Load CSV data into pandas DataFrames\n",
    "    input_data = pd.read_csv(input_file)\n",
    "    output_data = pd.read_csv(output_file)\n",
    "\n",
    "    num_bodies = 3  # Adjust based on your data\n",
    "    pos_cols = num_bodies * 3  # 3 coordinates for each body\n",
    "    vel_cols = num_bodies * 3  # 3 velocities for each body\n",
    "\n",
    "    # Combine positions and velocities to normalize together\n",
    "    combined_input_data = input_data.iloc[:, :pos_cols + vel_cols]\n",
    "    combined_output_data = output_data.iloc[:, :pos_cols + vel_cols]\n",
    "\n",
    "    # Apply Min-Max normalization to scale the data between 0 and 1\n",
    "    scaler = MinMaxScaler()\n",
    "\n",
    "    scaled_inputs = scaler.fit_transform(combined_input_data)\n",
    "    scaled_targets = scaler.transform(combined_output_data)\n",
    "\n",
    "    # Convert to torch tensors\n",
    "    inputs = torch.tensor(scaled_inputs, dtype=torch.float32)\n",
    "    targets = torch.tensor(scaled_targets, dtype=torch.float32)\n",
    "\n",
    "    # Create dataset and DataLoader\n",
    "    dataset = TensorDataset(inputs, targets)\n",
    "    train_size = int(0.8 * len(dataset))\n",
    "    val_size = len(dataset) - train_size\n",
    "    train_dataset, val_dataset = random_split(dataset, [train_size, val_size])\n",
    "    train_loader = DataLoader(train_dataset, batch_size=32, shuffle=True)\n",
    "    val_loader = DataLoader(val_dataset, batch_size=32, shuffle=False)\n",
    "\n",
    "    return train_loader, val_loader, scaler\n"
   ]
  },
  {
   "cell_type": "code",
   "execution_count": 5,
   "id": "c67bb6cc",
   "metadata": {
    "execution": {
     "iopub.execute_input": "2024-10-19T06:19:51.113154Z",
     "iopub.status.busy": "2024-10-19T06:19:51.112055Z",
     "iopub.status.idle": "2024-10-19T06:19:52.526342Z",
     "shell.execute_reply": "2024-10-19T06:19:52.525317Z"
    },
    "papermill": {
     "duration": 1.421643,
     "end_time": "2024-10-19T06:19:52.528706",
     "exception": false,
     "start_time": "2024-10-19T06:19:51.107063",
     "status": "completed"
    },
    "tags": []
   },
   "outputs": [],
   "source": [
    "# Initialize the model, loss function, and optimizer\n",
    "model = PINN()\n",
    "criterion = physics_loss\n",
    "optimizer = optim.Adam(model.parameters(), lr=0.0001)"
   ]
  },
  {
   "cell_type": "code",
   "execution_count": 6,
   "id": "3bdbc630",
   "metadata": {
    "execution": {
     "iopub.execute_input": "2024-10-19T06:19:52.537950Z",
     "iopub.status.busy": "2024-10-19T06:19:52.537458Z",
     "iopub.status.idle": "2024-10-19T06:19:52.546797Z",
     "shell.execute_reply": "2024-10-19T06:19:52.545981Z"
    },
    "papermill": {
     "duration": 0.016308,
     "end_time": "2024-10-19T06:19:52.548971",
     "exception": false,
     "start_time": "2024-10-19T06:19:52.532663",
     "status": "completed"
    },
    "tags": []
   },
   "outputs": [],
   "source": [
    "def train(model, train_loader, optimizer, criterion, epochs=10, threshold=0.1):\n",
    "    model.train()  # Set the model to training mode\n",
    "    train_losses = []\n",
    "    val_losses = []\n",
    "    train_accuracies = []\n",
    "\n",
    "    for epoch in range(1, epochs + 1):\n",
    "        total_loss = 0.0\n",
    "        correct_predictions = 0\n",
    "        total_predictions = 0\n",
    "\n",
    "        for inputs, targets in train_loader:\n",
    "            # Forward pass: predict next positions and velocities\n",
    "            outputs = model(inputs)\n",
    "\n",
    "            # Compute loss\n",
    "            loss = criterion(outputs, targets)  # physics loss on positions and velocities\n",
    "            total_loss += loss.item()\n",
    "\n",
    "            # Compute accuracy (considering the threshold for error)\n",
    "            predictions = (torch.abs(outputs - targets) < threshold).float()\n",
    "            correct_predictions += predictions.sum().item()\n",
    "            total_predictions += predictions.numel()\n",
    "\n",
    "            # Backward pass and optimization\n",
    "            optimizer.zero_grad()  # Clear gradients\n",
    "            loss.backward()        # Compute gradients\n",
    "            optimizer.step()       # Update parameters\n",
    "\n",
    "        # Calculate average training loss and accuracy\n",
    "        avg_train_loss = total_loss / len(train_loader)\n",
    "        avg_train_accuracy = correct_predictions / total_predictions\n",
    "        train_losses.append(avg_train_loss)\n",
    "        train_accuracies.append(avg_train_accuracy)\n",
    "\n",
    "        # Validate the model at the end of each epoch\n",
    "        val_loss, val_accuracy = validate(model, val_loader, criterion, threshold)\n",
    "        val_losses.append(val_loss)\n",
    "\n",
    "        # Print the loss and accuracy for this epoch\n",
    "        print(f'Epoch [{epoch}/{epochs}], Loss: {avg_train_loss}, Validation Loss: {val_loss}')\n",
    "\n",
    "    return train_losses, val_losses, "
   ]
  },
  {
   "cell_type": "code",
   "execution_count": 7,
   "id": "9ba73d24",
   "metadata": {
    "execution": {
     "iopub.execute_input": "2024-10-19T06:19:52.558721Z",
     "iopub.status.busy": "2024-10-19T06:19:52.558422Z",
     "iopub.status.idle": "2024-10-19T06:19:52.565402Z",
     "shell.execute_reply": "2024-10-19T06:19:52.564553Z"
    },
    "papermill": {
     "duration": 0.014458,
     "end_time": "2024-10-19T06:19:52.567296",
     "exception": false,
     "start_time": "2024-10-19T06:19:52.552838",
     "status": "completed"
    },
    "tags": []
   },
   "outputs": [],
   "source": [
    "def validate(model, val_loader, criterion, threshold=0.1):\n",
    "    model.eval()  # Set the model to evaluation mode\n",
    "    total_loss = 0.0\n",
    "    correct_predictions = 0\n",
    "    total_predictions = 0\n",
    "\n",
    "    with torch.no_grad():  # Disable gradient calculation\n",
    "        for inputs, targets in val_loader:\n",
    "            # Forward pass: predict next positions and velocities\n",
    "            outputs = model(inputs)\n",
    "\n",
    "            # Compute loss\n",
    "            loss = criterion(outputs, targets)  # physics loss on positions and velocities\n",
    "            total_loss += loss.item()\n",
    "\n",
    "            # Compute accuracy (considering the threshold for error)\n",
    "            predictions = (torch.abs(outputs - targets) < threshold).float()\n",
    "            correct_predictions += predictions.sum().item()\n",
    "            total_predictions += predictions.numel()\n",
    "\n",
    "    avg_val_loss = total_loss / len(val_loader)  # Return average validation loss\n",
    "    avg_val_accuracy = correct_predictions / total_predictions  # Return average validation accuracy\n",
    "    return avg_val_loss, avg_val_accuracy"
   ]
  },
  {
   "cell_type": "code",
   "execution_count": 8,
   "id": "1fcd2f30",
   "metadata": {
    "execution": {
     "iopub.execute_input": "2024-10-19T06:19:52.576054Z",
     "iopub.status.busy": "2024-10-19T06:19:52.575702Z",
     "iopub.status.idle": "2024-10-19T06:20:03.728263Z",
     "shell.execute_reply": "2024-10-19T06:20:03.727211Z"
    },
    "papermill": {
     "duration": 11.159963,
     "end_time": "2024-10-19T06:20:03.730976",
     "exception": false,
     "start_time": "2024-10-19T06:19:52.571013",
     "status": "completed"
    },
    "tags": []
   },
   "outputs": [],
   "source": [
    "# Load data\n",
    "train_loader, val_loader, scaler = load_data()"
   ]
  },
  {
   "cell_type": "code",
   "execution_count": 9,
   "id": "0f00975d",
   "metadata": {
    "execution": {
     "iopub.execute_input": "2024-10-19T06:20:03.741730Z",
     "iopub.status.busy": "2024-10-19T06:20:03.741372Z",
     "iopub.status.idle": "2024-10-19T06:32:36.933862Z",
     "shell.execute_reply": "2024-10-19T06:32:36.932870Z"
    },
    "papermill": {
     "duration": 753.204969,
     "end_time": "2024-10-19T06:32:36.940944",
     "exception": false,
     "start_time": "2024-10-19T06:20:03.735975",
     "status": "completed"
    },
    "tags": []
   },
   "outputs": [
    {
     "name": "stdout",
     "output_type": "stream",
     "text": [
      "Epoch [1/10], Loss: 0.00354274197237753, Validation Loss: 0.00016008813624484572\n",
      "Epoch [2/10], Loss: 1.1795369835447201e-05, Validation Loss: 2.2068607725098177e-06\n",
      "Epoch [3/10], Loss: 1.9315733867246766e-06, Validation Loss: 1.1473601467780617e-06\n",
      "Epoch [4/10], Loss: 1.3008639748357758e-06, Validation Loss: 7.037253329461462e-07\n",
      "Epoch [5/10], Loss: 1.0877719809158038e-06, Validation Loss: 9.354779388581943e-07\n",
      "Epoch [6/10], Loss: 9.459168571413523e-07, Validation Loss: 5.336510604440007e-07\n",
      "Epoch [7/10], Loss: 8.127409561997496e-07, Validation Loss: 7.179549378155932e-07\n",
      "Epoch [8/10], Loss: 7.532736826675821e-07, Validation Loss: 2.8441419891969726e-06\n",
      "Epoch [9/10], Loss: 7.075188128378901e-07, Validation Loss: 4.0361170562948454e-07\n",
      "Epoch [10/10], Loss: 7.025551047420287e-07, Validation Loss: 6.472247829906995e-07\n"
     ]
    }
   ],
   "source": [
    "# Train the model and store loss values\n",
    "num_epochs = 10 # Set the number of epochs\n",
    "train_losses, val_losses = train(model, train_loader, optimizer, criterion, epochs=num_epochs)"
   ]
  },
  {
   "cell_type": "code",
   "execution_count": 10,
   "id": "2db9513a",
   "metadata": {
    "execution": {
     "iopub.execute_input": "2024-10-19T06:32:36.952773Z",
     "iopub.status.busy": "2024-10-19T06:32:36.952428Z",
     "iopub.status.idle": "2024-10-19T06:32:37.318432Z",
     "shell.execute_reply": "2024-10-19T06:32:37.317531Z"
    },
    "papermill": {
     "duration": 0.374083,
     "end_time": "2024-10-19T06:32:37.320665",
     "exception": false,
     "start_time": "2024-10-19T06:32:36.946582",
     "status": "completed"
    },
    "tags": []
   },
   "outputs": [
    {
     "data": {
      "image/png": "[encoded data removed]",
      "text/plain": [
       "<Figure size 1200x600 with 1 Axes>"
      ]
     },
     "metadata": {},
     "output_type": "display_data"
    }
   ],
   "source": [
    "# Plot the training and validation loss curves\n",
    "plt.figure(figsize=(12, 6))\n",
    "plt.plot(train_losses, label='Training Loss', color='blue')\n",
    "plt.plot(val_losses, label='Validation Loss', color='orange')\n",
    "plt.title('Training and Validation Loss')\n",
    "plt.xlabel('Epochs')\n",
    "plt.ylabel('Loss')\n",
    "plt.legend()\n",
    "plt.grid()\n",
    "plt.show()"
   ]
  },
  {
   "cell_type": "code",
   "execution_count": 11,
   "id": "63f72ac9",
   "metadata": {
    "execution": {
     "iopub.execute_input": "2024-10-19T06:32:37.332158Z",
     "iopub.status.busy": "2024-10-19T06:32:37.331849Z",
     "iopub.status.idle": "2024-10-19T06:32:37.418193Z",
     "shell.execute_reply": "2024-10-19T06:32:37.416722Z"
    },
    "papermill": {
     "duration": 0.094983,
     "end_time": "2024-10-19T06:32:37.420871",
     "exception": false,
     "start_time": "2024-10-19T06:32:37.325888",
     "status": "completed"
    },
    "tags": []
   },
   "outputs": [
    {
     "name": "stdout",
     "output_type": "stream",
     "text": [
      "Model saved to pinn_model.onnx\n"
     ]
    }
   ],
   "source": [
    "import torch\n",
    "\n",
    "# Assuming your model is already defined and trained\n",
    "# Replace 'model' with your model variable\n",
    "# Define a dummy input tensor with the same shape as your model's input\n",
    "dummy_input = torch.randn(1, 18)  # Adjust the shape according to your model's input\n",
    "\n",
    "# Specify the filename for the ONNX model\n",
    "onnx_filename = \"pinn_model.onnx\"\n",
    "\n",
    "# Export the model\n",
    "torch.onnx.export(\n",
    "    model,                  # Model being run\n",
    "    dummy_input,           # Model input (or a tuple for multiple inputs)\n",
    "    onnx_filename,         # Where to save the model (can be a file or file-like object)\n",
    "    export_params=True,    # Store the trained parameter weights inside the model file\n",
    "    opset_version=11,      # The ONNX version to export the model to\n",
    "    do_constant_folding=True, # Whether to execute constant folding for optimization\n",
    "    input_names=['input'],  # The model's input names\n",
    "    output_names=['output'], # The model's output names\n",
    "    dynamic_axes={          # Variable-length axes\n",
    "        'input': {0: 'batch_size'},  # Batch size can vary\n",
    "        'output': {0: 'batch_size'}\n",
    "    }\n",
    ")\n",
    "\n",
    "print(f\"Model saved to {onnx_filename}\")"
   ]
  }
 ],
 "metadata": {
  "kaggle": {
   "accelerator": "gpu",
   "dataSources": [
    {
     "datasetId": 5899557,
     "sourceId": 9657138,
     "sourceType": "datasetVersion"
    }
   ],
   "dockerImageVersionId": 30787,
   "isGpuEnabled": true,
   "isInternetEnabled": true,
   "language": "python",
   "sourceType": "notebook"
  },
  "kernelspec": {
   "display_name": "Python 3",
   "language": "python",
   "name": "python3"
  },
  "language_info": {
   "codemirror_mode": {
    "name": "ipython",
    "version": 3
   },
   "file_extension": ".py",
   "mimetype": "text/x-python",
   "name": "python",
   "nbconvert_exporter": "python",
   "pygments_lexer": "ipython3",
   "version": "3.10.14"
  },
  "papermill": {
   "default_parameters": {},
   "duration": 775.72485,
   "end_time": "2024-10-19T06:32:38.749955",
   "environment_variables": {},
   "exception": null,
   "input_path": "__notebook__.ipynb",
   "output_path": "__notebook__.ipynb",
   "parameters": {},
   "start_time": "2024-10-19T06:19:43.025105",
   "version": "2.6.0"
  }
 },
 "nbformat": 4,
 "nbformat_minor": 5
}
